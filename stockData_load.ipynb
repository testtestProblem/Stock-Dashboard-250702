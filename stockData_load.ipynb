{
 "cells": [
  {
   "cell_type": "code",
   "execution_count": null,
   "id": "3c8535dd",
   "metadata": {},
   "outputs": [],
   "source": [
    "# 引入requests庫\n",
    "import requests  \n",
    "# 定義API的URL\n",
    "url = 'https://openapi.twse.com.tw/v1/exchangeReport/STOCK_DAY_ALL'  \n",
    "# 發送GET請求\n",
    "res = requests.get(url)  \n",
    "res "
   ]
  },
  {
   "cell_type": "code",
   "execution_count": null,
   "id": "8eb16be0",
   "metadata": {},
   "outputs": [],
   "source": [
    "import pandas as pd\n",
    "\n",
    "# 轉成 DataFrame\n",
    "df = pd.DataFrame(res.json())\n",
    "\n",
    "# 儲存為 CSV 檔案\n",
    "df.to_csv(\"stock_data.csv\", index=False, encoding='utf-8-sig')"
   ]
  },
  {
   "cell_type": "code",
   "execution_count": null,
   "id": "d77d8fcf",
   "metadata": {},
   "outputs": [],
   "source": [
    "# 建立 tse_xxxx.tw 格式，並用 | 串接\n",
    "filtered = df[df['Code'].isin(df['Code'])]\n",
    "tse_list = filtered['Code'].apply(lambda x: f\"tse_{x}.tw\")\n",
    "joined_str = \"|\".join(tse_list)\n",
    "\n",
    "joined_str"
   ]
  },
  {
   "cell_type": "code",
   "execution_count": null,
   "id": "9211d395",
   "metadata": {},
   "outputs": [],
   "source": [
    "tse_all = df['Code'].apply(lambda x: f\"tse_{x}.tw\").tolist()\n",
    "\n",
    "# 拆分成每組 50 個，共 26 組\n",
    "chunks = [tse_all[i:i + 50] for i in range(0, len(tse_all), 50)]\n",
    "\n",
    "# 每組轉為 | 字串\n",
    "chunked_strings = [\"|\".join(chunk) for chunk in chunks]\n",
    "\n",
    "# 顯示總組數和前三組預覽\n",
    "len(chunked_strings), chunked_strings[-1:]"
   ]
  },
  {
   "cell_type": "code",
   "execution_count": null,
   "id": "0880f9ff",
   "metadata": {},
   "outputs": [],
   "source": [
    "# 填入網址模板\n",
    "base_url = \"https://mis.twse.com.tw/stock/api/getStockInfo.jsp?json=1&delay=0&ex_ch={}\"\n",
    "urls = [base_url.format(chunk) for chunk in chunked_strings]\n",
    "urls\n"
   ]
  },
  {
   "cell_type": "code",
   "execution_count": null,
   "id": "fa2a5767",
   "metadata": {},
   "outputs": [],
   "source": [
    "# 🧩 將清單分割成多個小清單（每 batch_n 筆）\n",
    "def chunk_list(lst, chunk_size):\n",
    "    for i in range(0, len(lst), chunk_size):\n",
    "        yield lst[i:i + chunk_size]\n",
    "\n",
    "# 📥 用來發送 GET 請求\n",
    "def fetch_url_data(url):\n",
    "    try:\n",
    "        response = requests.get(url, timeout=5)\n",
    "        if response.status_code == 200:\n",
    "            return response.json()\n",
    "        else:\n",
    "            print(f\"Failed to fetch {url} - status: {response.status_code}\")\n",
    "            return None\n",
    "    except Exception as e:\n",
    "        print(f\"Error fetching {url}: {e}\")\n",
    "        return None\n",
    " \n",
    "    \n"
   ]
  },
  {
   "cell_type": "code",
   "execution_count": null,
   "id": "86205340",
   "metadata": {},
   "outputs": [],
   "source": [
    "import time\n",
    "import random\n",
    "import json\n",
    "from datetime import datetime\n",
    "\n",
    "\n",
    "def fetchListedCompanyPrice():\n",
    "    all_data = []\n",
    "    \n",
    "    for url in urls:\n",
    "        print(f\"Fetching: {url}\")\n",
    "        data = fetch_url_data(url)\n",
    "        if data and 'msgArray' in data:\n",
    "            all_data.extend(data['msgArray'])\n",
    "    \n",
    "            time.sleep(random.uniform(3, 6))  # 避免太頻繁被封鎖\n",
    "\n",
    "    # 取得目前時間\n",
    "    timestamp = datetime.now().strftime(\"%Y%m%d_%H%M%S\")\n",
    "    # 自訂檔名\n",
    "    filename = f\"twse_data_{timestamp}.json\"\n",
    "    # 儲存 JSON 檔案\n",
    "    with open(filename, \"w\", encoding=\"utf-8\") as f:\n",
    "        json.dump(all_data, f, ensure_ascii=False, indent=2)\n",
    "\n",
    "    print(f\"✅ 資料儲存完成，檔案名稱：{filename}\")\n",
    "    "
   ]
  },
  {
   "cell_type": "code",
   "execution_count": null,
   "id": "1d33e20d",
   "metadata": {},
   "outputs": [],
   "source": [
    "from apscheduler.schedulers.background import BackgroundScheduler\n",
    "import logging\n",
    "\n",
    "# 啟用 logging，顯示錯誤\n",
    "logging.basicConfig()\n",
    "logging.getLogger('apscheduler').setLevel(logging.DEBUG)\n",
    "\n",
    "scheduler = BackgroundScheduler()\n",
    "scheduler.add_job(fetchListedCompanyPrice, 'interval', minutes=2)\n",
    "scheduler.start()\n",
    "\n",
    "try:\n",
    "    while True:\n",
    "        time.sleep(1)\n",
    "except KeyboardInterrupt:\n",
    "    scheduler.shutdown()"
   ]
  },
  {
   "cell_type": "code",
   "execution_count": null,
   "id": "09f96108",
   "metadata": {},
   "outputs": [],
   "source": []
  },
  {
   "cell_type": "code",
   "execution_count": null,
   "id": "15f2958f",
   "metadata": {},
   "outputs": [],
   "source": [
    "import time\n",
    "import random \n",
    "\n",
    "all_data = []\n",
    "\n",
    "for url in urls:  # 每 10 個一起查詢 \n",
    "    print(f\"Fetching: {url}\")\n",
    "    data = fetch_url_data(url)\n",
    "    if data and 'msgArray' in data:\n",
    "        all_data.extend(data['msgArray'])\n",
    "    \n",
    "    time.sleep(random.uniform(4, 6))  # 避免太頻繁被封鎖"
   ]
  },
  {
   "cell_type": "code",
   "execution_count": null,
   "id": "7ec5129a",
   "metadata": {},
   "outputs": [],
   "source": [
    "import json\n",
    "from datetime import datetime\n",
    "\n",
    "# 取得目前時間\n",
    "timestamp = datetime.now().strftime(\"%Y%m%d_%H%M%S\")\n",
    "\n",
    "# 自訂檔名\n",
    "filename = f\"twse_data_{timestamp}.json\"\n",
    "\n",
    "# 儲存 JSON 檔案\n",
    "with open(filename, \"w\", encoding=\"utf-8\") as f:\n",
    "    json.dump(all_data, f, ensure_ascii=False, indent=2)\n",
    "\n",
    "print(f\"✅ 資料儲存完成，檔案名稱：{filename}\")"
   ]
  },
  {
   "cell_type": "code",
   "execution_count": null,
   "id": "bbeed89a",
   "metadata": {},
   "outputs": [],
   "source": []
  }
 ],
 "metadata": {
  "kernelspec": {
   "display_name": "stock",
   "language": "python",
   "name": "python3"
  },
  "language_info": {
   "codemirror_mode": {
    "name": "ipython",
    "version": 3
   },
   "file_extension": ".py",
   "mimetype": "text/x-python",
   "name": "python",
   "nbconvert_exporter": "python",
   "pygments_lexer": "ipython3",
   "version": "3.6.13"
  }
 },
 "nbformat": 4,
 "nbformat_minor": 5
}
